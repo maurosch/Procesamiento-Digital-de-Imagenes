{
 "cells": [
  {
   "source": [
    "# Práctica"
   ],
   "cell_type": "markdown",
   "metadata": {}
  },
  {
   "source": [
    "### Importo Librerias"
   ],
   "cell_type": "markdown",
   "metadata": {}
  },
  {
   "cell_type": "code",
   "execution_count": 1,
   "metadata": {},
   "outputs": [],
   "source": [
    "import matplotlib.pyplot as plt\n",
    "import numpy as np\n",
    "import imageio\n",
    "import math\n",
    "import copy\n",
    "import numpy.linalg as linalg\n",
    "from scipy.signal import convolve2d\n",
    "from skimage import color, data\n",
    "from skimage.transform import hough_line, hough_line_peaks\n",
    "from skimage.feature import canny\n",
    "from skimage.draw import line, circle_perimeter\n",
    "import cv2 as cv\n",
    "from scipy.signal import convolve2d\n",
    "import glob, os\n",
    "from IPython.display import clear_output"
   ]
  },
  {
   "source": [
    "### Importo imagenes"
   ],
   "cell_type": "markdown",
   "metadata": {}
  },
  {
   "cell_type": "code",
   "execution_count": 52,
   "metadata": {},
   "outputs": [],
   "source": [
    "imgHouse = imageio.imread('img/house.png')\n",
    "imgLaPlata = imageio.imread('img/color/ruta.jpg')\n",
    "imgLaPlata = imageio.imread('img/color/ruta.jpg')\n",
    "imgSeptagon = imageio.imread('img/imagenesHough/septagon.png')\n",
    "imgTest = imageio.imread('img/imagenesHough/test.png')\n",
    "imgChess = color.rgb2gray(color.rgba2rgb(imageio.imread('img/imagenesHough/chess.png'))).astype('uint8')\n",
    "imgIris = imageio.imread('img/iris/0006-R-0014.j2c.pgm.jpg')\n",
    "imgBuilding = imageio.imread('img/imagenesHough/building.png')\n",
    "def mostrarImagen(img, cmap=None, norm=False):\n",
    "    plt.imshow(img, cmap=cmap)\n",
    "    plt.show()\n",
    "\n",
    "def calcNivelesGrises(img):\n",
    "    return np.iinfo(img.dtype).max+1"
   ]
  },
  {
   "cell_type": "code",
   "execution_count": 3,
   "metadata": {},
   "outputs": [],
   "source": [
    "def scale(v, beginBefore, endBefore, beginAfter, endAfter):\n",
    "    v_ = abs(v-beginBefore)\n",
    "    lenRange1 = abs(endBefore-beginBefore)\n",
    "    lenRange2 = abs(endAfter-beginAfter)\n",
    "    return beginAfter+v_/lenRange1*lenRange2"
   ]
  },
  {
   "cell_type": "code",
   "execution_count": 39,
   "metadata": {},
   "outputs": [],
   "source": [
    "def aplicarRuidoGaussiano(img, a=0, b=30):\n",
    "    imgCopy = copy.deepcopy(img)\n",
    "    for i in range(len(img)):\n",
    "        for j in range(len(img[0])):\n",
    "            imgCopy[i][j] += int(a + (b-a)*np.random.normal(0,1))\n",
    "    return imgCopy\n",
    "\n",
    "def obtenerMatrizGaussiana(img, n, sigma=5):\n",
    "    m = np.zeros((n,n))\n",
    "    for i in range(len(m)):\n",
    "        for j in range(len(m)):\n",
    "            dx = n//2-i\n",
    "            dy = n//2-j\n",
    "            m[i][j] = math.e**(-(dx**2+dy**2)/(2*sigma**2))\n",
    "    return m\n",
    "\n",
    "def aplicarFiltroGaussiano(img, n, sigma=5):\n",
    "    m = np.zeros((n,n))\n",
    "    for i in range(len(m)):\n",
    "        for j in range(len(m)):\n",
    "            dx = n//2-i\n",
    "            dy = n//2-j\n",
    "            m[i][j] = math.e**(-(dx**2+dy**2)/(2*sigma**2))\n",
    "    return convolve2d(img, m/np.sum(m), mode='same')"
   ]
  },
  {
   "source": [
    "# Ejercicio 1"
   ],
   "cell_type": "markdown",
   "metadata": {}
  },
  {
   "cell_type": "code",
   "execution_count": 2,
   "metadata": {},
   "outputs": [],
   "source": [
    "def matrizCoOcurrencia():\n",
    "    return\n",
    "def lbp():\n",
    "    return\n",
    "def histrogramaDeGradientes():\n",
    "    return"
   ]
  }
 ],
 "metadata": {
  "kernelspec": {
   "name": "python383jvsc74a57bd02db524e06e9f5f4ffedc911c917cb75e12dbc923643829bf417064a77eb14d37",
   "display_name": "Python 3.8.3 64-bit"
  },
  "language_info": {
   "codemirror_mode": {
    "name": "ipython",
    "version": 3
   },
   "file_extension": ".py",
   "mimetype": "text/x-python",
   "name": "python",
   "nbconvert_exporter": "python",
   "pygments_lexer": "ipython3",
   "version": "3.8.3"
  },
  "metadata": {
   "interpreter": {
    "hash": "8b0fc2c3104fcc4912cc7afb853c4009576ef772f444336dd383fcfd1ad4e406"
   }
  }
 },
 "nbformat": 4,
 "nbformat_minor": 5
}