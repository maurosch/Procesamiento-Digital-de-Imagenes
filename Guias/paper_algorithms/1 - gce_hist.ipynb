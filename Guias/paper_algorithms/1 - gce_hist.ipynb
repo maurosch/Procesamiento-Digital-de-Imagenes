{
 "metadata": {
  "language_info": {
   "codemirror_mode": {
    "name": "ipython",
    "version": 3
   },
   "file_extension": ".py",
   "mimetype": "text/x-python",
   "name": "python",
   "nbconvert_exporter": "python",
   "pygments_lexer": "ipython3",
   "version": "3.8.3-final"
  },
  "orig_nbformat": 2,
  "kernelspec": {
   "name": "python3",
   "display_name": "Python 3.8.3 64-bit",
   "metadata": {
    "interpreter": {
     "hash": "2db524e06e9f5f4ffedc911c917cb75e12dbc923643829bf417064a77eb14d37"
    }
   }
  }
 },
 "nbformat": 4,
 "nbformat_minor": 2,
 "cells": [
  {
   "cell_type": "code",
   "execution_count": 1,
   "metadata": {},
   "outputs": [],
   "source": [
    "import matplotlib.pyplot as plt\n",
    "import matplotlib.image as mpimg\n",
    "import math\n",
    "import copy\n",
    "sys.path.insert(1, '../')\n",
    "import util"
   ]
  },
  {
   "cell_type": "code",
   "execution_count": null,
   "metadata": {},
   "outputs": [],
   "source": [
    "def histogramModificationAlgorithm(img, b, w, alpha, g):\r\n",
    "    k = 0\r\n",
    "    count = 0\r\n",
    "    for i in range(len(img)):\r\n",
    "        for j in range(len(img[0])):\r\n",
    "            k = k + abs(img[i][j]-img[i][j-2])\r\n",
    "            if abs(img[i][j]-img[i][j-2]) > treshold:\r\n",
    "                h[img[i][j]] += 1\r\n",
    "                count += 1\r\n",
    "    u = min(count/256, uMin)\r\n",
    "    for i in :\r\n",
    "        if :\r\n",
    "        else:"
   ]
  }
 ]
}